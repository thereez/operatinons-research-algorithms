{
 "cells": [
  {
   "cell_type": "markdown",
   "metadata": {},
   "source": [
    "# LocalSearch"
   ]
  },
  {
   "cell_type": "markdown",
   "metadata": {},
   "source": [
    "## tai20a"
   ]
  },
  {
   "cell_type": "code",
   "execution_count": 48,
   "metadata": {},
   "outputs": [
    {
     "name": "stdout",
     "output_type": "stream",
     "text": [
      "Stop Local Search on iteration 35...\n",
      "Total time: 0.029876400000006242\n",
      "Solution: [ 7 18 17 15 16 19 10 14 13  2  5 12  8  3 11  1  4  0  9  6]\n",
      "Fitness: 735104 \n",
      "\n"
     ]
    }
   ],
   "source": [
    "run main.py -benchmark 20 -algorithm LocalSearch"
   ]
  },
  {
   "cell_type": "markdown",
   "metadata": {},
   "source": [
    "## tai40a"
   ]
  },
  {
   "cell_type": "code",
   "execution_count": 105,
   "metadata": {},
   "outputs": [
    {
     "name": "stdout",
     "output_type": "stream",
     "text": [
      "Total time: 0.17557100000004766\n",
      "Solution: [34 26 21 20  6  7 36  3 19 22 13 14 16 30 28 23 38 25  0  2 33  9 29 11\n",
      " 27 10 31 24  4 37 17 35 32  8 18  5 12 15  1 39]\n",
      "Fitness: 3318902 \n",
      "\n"
     ]
    }
   ],
   "source": [
    "run main.py -benchmark 40 -algorithm LocalSearch"
   ]
  },
  {
   "cell_type": "markdown",
   "metadata": {},
   "source": [
    "## tai60a"
   ]
  },
  {
   "cell_type": "code",
   "execution_count": 178,
   "metadata": {},
   "outputs": [
    {
     "name": "stdout",
     "output_type": "stream",
     "text": [
      "Total time: 0.35092700000001287\n",
      "Solution: [21 29 20  4 16 18 45 46 39 59 53  9  0  1 30 36 44 58 43 50 10 41 42 11\n",
      " 54 13 47 12 33 52 23  7 49  6 24 57 17 27 55 14 31 32 38 48 28 15 34  5\n",
      " 40  8 35 37 51 25 56 22  3 26 19  2]\n",
      "Fitness: 7757270 \n",
      "\n"
     ]
    }
   ],
   "source": [
    "run main.py -benchmark 60 -algorithm LocalSearch -iterations_num 70"
   ]
  },
  {
   "cell_type": "markdown",
   "metadata": {},
   "source": [
    "## tai80a"
   ]
  },
  {
   "cell_type": "code",
   "execution_count": 204,
   "metadata": {},
   "outputs": [
    {
     "name": "stdout",
     "output_type": "stream",
     "text": [
      "Total time: 0.20620339999993575\n",
      "Solution: [67 13 62 36  8 10 14 26 35 48 44 61 24 68 56  0 64 54 51 58 39 42 70 27\n",
      " 69 75  1 23 11 74  2 73 22 29 37 78 72 38 18 25 50  9 34 71 53 31 33 47\n",
      " 79  5 20 30 15 17  4 21 28 45  3 19 66 60 32 40 41 49 76  7 57 43 59 16\n",
      " 77  6 52 55 63 12 46 65]\n",
      "Fitness: 14883912 \n",
      "\n"
     ]
    }
   ],
   "source": [
    "run main.py -benchmark 80 -algorithm LocalSearch"
   ]
  },
  {
   "cell_type": "markdown",
   "metadata": {},
   "source": [
    "## tai100a"
   ]
  },
  {
   "cell_type": "code",
   "execution_count": 247,
   "metadata": {},
   "outputs": [
    {
     "name": "stdout",
     "output_type": "stream",
     "text": [
      "Total time: 0.45595219999995606\n",
      "Solution: [96 21 88 93  8 42 91 30 14 95 38 15 67 13 77 17 31 98 90 94 64 54 74 92\n",
      " 63 23 68 34 71 36 78 26 87 66 12 80 76 60 70  6 75 53 48 32 51  5 82 40\n",
      " 89 55 49 37 33 50 18  2 59 79 19 72 58 81 99 56 47  4 86 16 20 11 69 46\n",
      " 73 52 97 57 43 27  3 65 61  0 83 25 35  9 24 85 84 28 45  7 29 44 22 10\n",
      " 41 62  1 39]\n",
      "Fitness: 22976470 \n",
      "\n"
     ]
    }
   ],
   "source": [
    "run main.py -benchmark 100 -algorithm LocalSearch -iterations_num 70"
   ]
  },
  {
   "cell_type": "markdown",
   "metadata": {},
   "source": [
    "# IteratedSearch "
   ]
  },
  {
   "cell_type": "markdown",
   "metadata": {},
   "source": [
    "## tai20a"
   ]
  },
  {
   "cell_type": "code",
   "execution_count": 9,
   "metadata": {},
   "outputs": [
    {
     "name": "stdout",
     "output_type": "stream",
     "text": [
      "Total time: 1.9228743000000037\n",
      "Solution: [ 0  6 14  4  5  7  2 10  1 15 18 11 13 17  3 19  9 12  8 16]\n",
      "Fitness: 774776 \n",
      "\n"
     ]
    }
   ],
   "source": [
    "run main.py -benchmark 20 -algorithm IteratedSearch -iterations_num 100"
   ]
  },
  {
   "cell_type": "markdown",
   "metadata": {},
   "source": [
    "## tai40a"
   ]
  },
  {
   "cell_type": "code",
   "execution_count": 10,
   "metadata": {},
   "outputs": [
    {
     "name": "stdout",
     "output_type": "stream",
     "text": [
      "Total time: 8.0520949\n",
      "Solution: [14  1 18 36  3 11 22 28  6 16  0 31 17 38 33 27 34 30 32 13 12  8  9  4\n",
      " 23 21 24 15 26 35 29 10  5 20 39 19  2  7 37 25]\n",
      "Fitness: 3510300 \n",
      "\n"
     ]
    }
   ],
   "source": [
    "run main.py -benchmark 40 -algorithm IteratedSearch -iterations_num 100"
   ]
  },
  {
   "cell_type": "markdown",
   "metadata": {},
   "source": [
    "## tai60a"
   ]
  },
  {
   "cell_type": "code",
   "execution_count": 14,
   "metadata": {},
   "outputs": [
    {
     "name": "stdout",
     "output_type": "stream",
     "text": [
      "Total time: 21.1871515\n",
      "Solution: [ 3 24 34  8  4  9 19 27 37 13 52 45 21 56 49 51 40 53  7 50 17 16 23 39\n",
      " 43 26 12 33 38 42 46  1 47 55 36 15 59  0  5 28 35 31 44 54 58 32 22 25\n",
      " 11  2 10 14 29 30 57 41 48  6 20 18]\n",
      "Fitness: 8146516 \n",
      "\n"
     ]
    }
   ],
   "source": [
    "run main.py -benchmark 60 -algorithm IteratedSearch -iterations_num 100"
   ]
  },
  {
   "cell_type": "markdown",
   "metadata": {},
   "source": [
    "## tai80a"
   ]
  },
  {
   "cell_type": "code",
   "execution_count": 12,
   "metadata": {},
   "outputs": [
    {
     "name": "stdout",
     "output_type": "stream",
     "text": [
      "Total time: 33.12523159999999\n",
      "Solution: [68 52 25 35 38 75  7 16 15 19 72 40 14 39 53  2 69 41 58 70 57 59 34 30\n",
      "  5 26 43 22 23 20 60  4  1 79 61  0 50 12 46 32 67 21 74 37 65 29 54  6\n",
      " 31 28  3 33 77 76 78 63 27 62 10 73 44 56 71 64 18 66 51 49  8 45  9 13\n",
      " 11 48 47 42 24 55 17 36]\n",
      "Fitness: 15101978 \n",
      "\n"
     ]
    }
   ],
   "source": [
    "run main.py -benchmark 80 -algorithm IteratedSearch -iterations_num 100"
   ]
  },
  {
   "cell_type": "markdown",
   "metadata": {},
   "source": [
    "## tai100a"
   ]
  },
  {
   "cell_type": "code",
   "execution_count": 13,
   "metadata": {},
   "outputs": [
    {
     "name": "stdout",
     "output_type": "stream",
     "text": [
      "Total time: 55.71165420000001\n",
      "Solution: [35 97  4 69 10 13 34 94 72 77 29  2 74 45 76 55 28 58 85 22 57 75 73 52\n",
      " 15 20  0 33 24 41 64 50 66 53 31 38 56 70 63  7 16  5 17 49 42 27 18 92\n",
      " 91  6 11 44 78 46 62 83 81 59 65 86 71 26 32 48  3 80 21 23 87 99 93 88\n",
      " 98 54 39 14 95 90 51 37 25  1 40 43  8 96 79 47 36 12 84 60 89 67  9 30\n",
      " 68 61 82 19]\n",
      "Fitness: 23441180 \n",
      "\n"
     ]
    }
   ],
   "source": [
    "run main.py -benchmark 100 -algorithm IteratedSearch -iterations_num 100"
   ]
  }
 ],
 "metadata": {
  "kernelspec": {
   "display_name": "Python 3",
   "language": "python",
   "name": "python3"
  },
  "language_info": {
   "codemirror_mode": {
    "name": "ipython",
    "version": 3
   },
   "file_extension": ".py",
   "mimetype": "text/x-python",
   "name": "python",
   "nbconvert_exporter": "python",
   "pygments_lexer": "ipython3",
   "version": "3.7.9"
  }
 },
 "nbformat": 4,
 "nbformat_minor": 2
}
