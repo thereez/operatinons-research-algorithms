{
 "cells": [
  {
   "cell_type": "markdown",
   "metadata": {},
   "source": [
    "# AntColony"
   ]
  },
  {
   "cell_type": "markdown",
   "metadata": {},
   "source": [
    "### A-n69-k9"
   ]
  },
  {
   "cell_type": "code",
   "execution_count": 5,
   "metadata": {},
   "outputs": [
    {
     "name": "stdout",
     "output_type": "stream",
     "text": [
      "([[1, 20, 25, 44, 53, 55, 27, 6, 47, 1], [1, 8, 29, 35, 15, 43, 58, 26, 12, 64, 38, 11, 1], [1, 32, 19, 54, 24, 10, 50, 34, 1], [1, 3, 65, 62, 68, 22, 28, 66, 1], [1, 63, 57, 40, 9, 60, 21, 42, 1], [1, 23, 13, 30, 41, 39, 69, 67, 59, 1], [1, 17, 51, 18, 33, 37, 2, 49, 1], [1, 31, 52, 4, 16, 45, 14, 36, 46, 7, 1], [1, 56, 61, 5, 48, 1]], 1316.2233033671428)\n",
      "Total time: 40.45434639999999\n"
     ]
    }
   ],
   "source": [
    "run main.py -benchmark A-n69-k9.vrp -ants_num 20 -alpha 1.2 -beta 2.1 -rho 0.75"
   ]
  },
  {
   "cell_type": "markdown",
   "metadata": {},
   "source": [
    "### A-n80-k10 "
   ]
  },
  {
   "cell_type": "code",
   "execution_count": 7,
   "metadata": {},
   "outputs": [
    {
     "name": "stdout",
     "output_type": "stream",
     "text": [
      "([[1, 50, 74, 37, 54, 67, 68, 71, 73, 77, 51, 55, 34, 1], [1, 14, 43, 52, 78, 4, 40, 61, 32, 1], [1, 41, 22, 8, 2, 80, 1], [1, 12, 11, 72, 15, 53, 29, 49, 19, 35, 79, 1], [1, 39, 59, 33, 5, 23, 46, 65, 1], [1, 10, 56, 57, 70, 66, 36, 27, 20, 58, 76, 1], [1, 47, 26, 42, 16, 48, 69, 62, 21, 17, 44, 28, 1], [1, 75, 30, 18, 60, 31, 25, 6, 1], [1, 3, 38, 9, 7, 24, 45, 1], [1, 64, 63, 13, 1]], 2140.1620065890875)\n",
      "Total time: 57.04423480000003\n"
     ]
    }
   ],
   "source": [
    "run main.py -benchmark A-n80-k10.vrp -ants_num 16 -alpha 1.5 -beta 2.05 -rho 0.88"
   ]
  },
  {
   "cell_type": "code",
   "execution_count": null,
   "metadata": {},
   "outputs": [],
   "source": []
  }
 ],
 "metadata": {
  "kernelspec": {
   "display_name": "Python 3",
   "language": "python",
   "name": "python3"
  },
  "language_info": {
   "codemirror_mode": {
    "name": "ipython",
    "version": 3
   },
   "file_extension": ".py",
   "mimetype": "text/x-python",
   "name": "python",
   "nbconvert_exporter": "python",
   "pygments_lexer": "ipython3",
   "version": "3.7.1"
  }
 },
 "nbformat": 4,
 "nbformat_minor": 2
}
