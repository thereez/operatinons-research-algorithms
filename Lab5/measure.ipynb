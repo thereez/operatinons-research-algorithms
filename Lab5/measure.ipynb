{
 "cells": [
  {
   "cell_type": "markdown",
   "metadata": {},
   "source": [
    "# AntColony"
   ]
  },
  {
   "cell_type": "markdown",
   "metadata": {},
   "source": [
    "# Benchmark A"
   ]
  },
  {
   "cell_type": "markdown",
   "metadata": {},
   "source": [
    "### A-n32-k5"
   ]
  },
  {
   "cell_type": "code",
   "execution_count": 3,
   "metadata": {},
   "outputs": [
    {
     "name": "stdout",
     "output_type": "stream",
     "text": [
      "([[1, 2, 17, 31, 27, 15, 25, 28, 1], [1, 21, 6, 26, 11, 16, 10, 23, 9, 19, 30, 1], [1, 7, 3, 4, 24, 29, 5, 12, 1], [1, 8, 14, 22, 32, 20, 18, 1], [1, 13, 1]], 839.8769481032385)\n",
      "Total time: 11.718481099999998\n"
     ]
    }
   ],
   "source": [
    "run main.py -benchmark A-n32-k5.vrp -ants_num 20 -alpha 1.2 -beta 2.1 -rho 0.75"
   ]
  },
  {
   "cell_type": "markdown",
   "metadata": {},
   "source": [
    "### A-n33-k5"
   ]
  },
  {
   "cell_type": "code",
   "execution_count": 4,
   "metadata": {},
   "outputs": [
    {
     "name": "stdout",
     "output_type": "stream",
     "text": [
      "([[1, 3, 21, 33, 14, 9, 8, 27, 6, 1], [1, 23, 24, 19, 29, 12, 7, 25, 1], [1, 20, 15, 22, 2, 32, 30, 17, 16, 1], [1, 11, 26, 28, 31, 13, 5, 1], [1, 4, 10, 18, 1]], 722.2909948706856)\n",
      "Total time: 13.016190700000003\n"
     ]
    }
   ],
   "source": [
    "run main.py -benchmark A-n33-k5.vrp -iterations 200 -ants_num 20 -alpha 0.5 -beta 2.1 -rho 0.75"
   ]
  },
  {
   "cell_type": "markdown",
   "metadata": {},
   "source": [
    "### A-n33-k6"
   ]
  },
  {
   "cell_type": "code",
   "execution_count": 39,
   "metadata": {},
   "outputs": [
    {
     "name": "stdout",
     "output_type": "stream",
     "text": [
      "([[1, 29, 26, 17, 31, 28, 22, 1], [1, 11, 33, 15, 18, 12, 30, 1], [1, 9, 5, 23, 27, 24, 25, 32, 1], [1, 2, 19, 7, 8, 6, 14, 1], [1, 4, 10, 16, 3, 21, 20, 1], [1, 13, 1]], 796.2128528248279)\n",
      "Total time: 18.189452200000005\n"
     ]
    }
   ],
   "source": [
    "run main.py -benchmark A-n33-k6.vrp -iterations 300 -ants_num 10 -alpha 1.2 -beta 2.1 -rho 0.75"
   ]
  },
  {
   "cell_type": "markdown",
   "metadata": {},
   "source": [
    "### A-n34-k5"
   ]
  },
  {
   "cell_type": "code",
   "execution_count": 38,
   "metadata": {},
   "outputs": [
    {
     "name": "stdout",
     "output_type": "stream",
     "text": [
      "([[1, 27, 5, 21, 19, 3, 17, 23, 34, 1], [1, 32, 26, 29, 33, 4, 13, 10, 1], [1, 11, 14, 22, 18, 20, 12, 24, 28, 1], [1, 15, 8, 7, 16, 9, 2, 1], [1, 6, 31, 25, 30, 1]], 847.7107540026286)\n",
      "Total time: 24.722854000000098\n"
     ]
    }
   ],
   "source": [
    "run main.py -benchmark A-n34-k5.vrp -iterations 400 -ants_num 10 -alpha 0.9 -beta 2.15 -rho 0.75"
   ]
  },
  {
   "cell_type": "markdown",
   "metadata": {},
   "source": [
    "### A-n36-k5"
   ]
  },
  {
   "cell_type": "code",
   "execution_count": 35,
   "metadata": {},
   "outputs": [
    {
     "name": "stdout",
     "output_type": "stream",
     "text": [
      "([[1, 2, 14, 18, 31, 30, 34, 32, 20, 5, 7, 4, 24, 1], [1, 17, 12, 26, 28, 25, 22, 23, 33, 1], [1, 11, 8, 27, 21, 6, 1], [1, 29, 15, 35, 3, 36, 9, 16, 1], [1, 19, 13, 10, 1]], 898.9106457508437)\n",
      "Total time: 43.95034079999982\n"
     ]
    }
   ],
   "source": [
    "run main.py -benchmark A-n36-k5.vrp -iterations 400 -ants_num 16 -alpha 0.9 -beta 2.05 -rho 0.75"
   ]
  },
  {
   "cell_type": "markdown",
   "metadata": {},
   "source": [
    "### A-n37-k5"
   ]
  },
  {
   "cell_type": "code",
   "execution_count": 24,
   "metadata": {},
   "outputs": [
    {
     "name": "stdout",
     "output_type": "stream",
     "text": [
      "([[1, 16, 22, 17, 23, 14, 11, 3, 1], [1, 31, 26, 36, 19, 27, 29, 32, 33, 30, 35, 1], [1, 4, 9, 28, 12, 10, 25, 24, 15, 18, 13, 2, 1], [1, 21, 20, 7, 6, 34, 5, 8, 1], [1, 37, 1]], 744.3631328496149)\n",
      "Total time: 33.627411999999936\n"
     ]
    }
   ],
   "source": [
    "run main.py -benchmark A-n37-k5.vrp -iterations 200 -ants_num 24 -alpha 0.9 -beta 2.15 -rho 0.75"
   ]
  },
  {
   "cell_type": "markdown",
   "metadata": {},
   "source": [
    "### A-n37-k6"
   ]
  },
  {
   "cell_type": "code",
   "execution_count": 32,
   "metadata": {},
   "outputs": [
    {
     "name": "stdout",
     "output_type": "stream",
     "text": [
      "([[1, 9, 4, 6, 34, 10, 22, 29, 2, 1], [1, 7, 21, 20, 32, 35, 18, 5, 19, 1], [1, 14, 27, 11, 12, 16, 1], [1, 3, 24, 23, 13, 31, 33, 26, 1], [1, 15, 17, 8, 25, 30, 37, 1], [1, 28, 36, 1]], 1042.5381941215642)\n",
      "Total time: 17.521391900000026\n"
     ]
    }
   ],
   "source": [
    "run main.py -benchmark A-n37-k6.vrp -iterations 100 -ants_num 24 -alpha 1.1 -beta 2.15 -rho 0.75"
   ]
  },
  {
   "cell_type": "markdown",
   "metadata": {},
   "source": [
    "### A-n38-k5"
   ]
  },
  {
   "cell_type": "code",
   "execution_count": 112,
   "metadata": {},
   "outputs": [
    {
     "name": "stdout",
     "output_type": "stream",
     "text": [
      "([[1, 25, 15, 3, 14, 37, 18, 16, 33, 6, 29, 1], [1, 10, 9, 34, 36, 24, 27, 4, 13, 1], [1, 22, 11, 30, 35, 7, 20, 19, 1], [1, 32, 38, 26, 17, 5, 2, 31, 1], [1, 21, 8, 23, 28, 12, 1]], 814.2696191800219)\n",
      "Total time: 15.243960200000402\n"
     ]
    }
   ],
   "source": [
    "run main.py -benchmark A-n38-k5.vrp -iterations 100 -ants_num 20 -alpha 0.85 -beta 2.85 -rho 0.75"
   ]
  },
  {
   "cell_type": "markdown",
   "metadata": {},
   "source": [
    "### A-n39-k5"
   ]
  },
  {
   "cell_type": "code",
   "execution_count": 54,
   "metadata": {},
   "outputs": [
    {
     "name": "stdout",
     "output_type": "stream",
     "text": [
      "([[1, 15, 5, 13, 19, 10, 32, 1], [1, 22, 31, 14, 29, 7, 37, 27, 18, 12, 1], [1, 20, 26, 34, 39, 16, 2, 24, 21, 30, 6, 1], [1, 11, 33, 17, 8, 4, 23, 3, 9, 1], [1, 28, 35, 38, 36, 25, 1]], 920.6323722652512)\n",
      "Total time: 49.180641700000024\n"
     ]
    }
   ],
   "source": [
    "run main.py -benchmark A-n39-k5.vrp -iterations 300 -ants_num 20 -alpha 1.2 -beta 2.15 -rho 0.75"
   ]
  },
  {
   "cell_type": "markdown",
   "metadata": {},
   "source": [
    "### A-n39-k6"
   ]
  },
  {
   "cell_type": "code",
   "execution_count": 135,
   "metadata": {},
   "outputs": [
    {
     "name": "stdout",
     "output_type": "stream",
     "text": [
      "([[1, 9, 8, 5, 17, 11, 28, 35, 23, 21, 24, 1], [1, 25, 4, 39, 13, 10, 29, 30, 6, 1], [1, 16, 14, 31, 1], [1, 27, 12, 7, 2, 37, 18, 22, 1], [1, 38, 32, 15, 36, 26, 20, 34, 3, 1], [1, 19, 33, 1]], 934.1915260315843)\n",
      "Total time: 11.596736899999087\n"
     ]
    }
   ],
   "source": [
    "run main.py -benchmark A-n39-k6.vrp -iterations 100 -ants_num 16 -alpha 1.05 -beta 2.15 -rho 0.8"
   ]
  },
  {
   "cell_type": "markdown",
   "metadata": {},
   "source": [
    "### A-n44-k6"
   ]
  },
  {
   "cell_type": "code",
   "execution_count": 146,
   "metadata": {},
   "outputs": [
    {
     "name": "stdout",
     "output_type": "stream",
     "text": [
      "([[1, 32, 9, 16, 29, 28, 20, 25, 1], [1, 26, 31, 24, 41, 30, 39, 10, 1], [1, 5, 35, 40, 18, 13, 4, 7, 23, 1], [1, 8, 6, 22, 33, 38, 43, 12, 11, 27, 1], [1, 34, 17, 21, 19, 36, 2, 44, 1], [1, 42, 15, 14, 37, 3, 1]], 998.8332345361981)\n",
      "Total time: 17.63789640000141\n"
     ]
    }
   ],
   "source": [
    "run main.py -benchmark A-n44-k6.vrp -iterations 100 -ants_num 20 -alpha 1.1 -beta 2.05 -rho 0.75"
   ]
  },
  {
   "cell_type": "markdown",
   "metadata": {},
   "source": [
    "### A-n45-k6"
   ]
  },
  {
   "cell_type": "code",
   "execution_count": 167,
   "metadata": {},
   "outputs": [
    {
     "name": "stdout",
     "output_type": "stream",
     "text": [
      "([[1, 24, 10, 29, 8, 33, 14, 21, 11, 1], [1, 27, 30, 28, 19, 44, 39, 1], [1, 15, 36, 32, 2, 7, 45, 1], [1, 18, 6, 22, 34, 42, 9, 4, 23, 13, 1], [1, 3, 26, 40, 37, 43, 5, 17, 16, 1], [1, 25, 38, 35, 12, 41, 20, 31, 1]], 1054.2945674756666)\n",
      "Total time: 51.042793299999175\n"
     ]
    }
   ],
   "source": [
    "run main.py -benchmark A-n45-k6.vrp -iterations 200 -ants_num 28 -alpha 1.2 -beta 2.15 -rho 0.75"
   ]
  },
  {
   "cell_type": "markdown",
   "metadata": {},
   "source": [
    "### A-n45-k7"
   ]
  },
  {
   "cell_type": "code",
   "execution_count": 175,
   "metadata": {},
   "outputs": [
    {
     "name": "stdout",
     "output_type": "stream",
     "text": [
      "([[1, 10, 11, 23, 6, 34, 22, 3, 1], [1, 40, 36, 33, 14, 19, 8, 17, 21, 39, 9, 1], [1, 42, 44, 12, 4, 29, 7, 5, 1], [1, 15, 25, 45, 28, 30, 1], [1, 41, 18, 24, 26, 16, 43, 1], [1, 32, 20, 37, 31, 38, 2, 1], [1, 13, 27, 35, 1]], 1233.9779858663076)\n",
      "Total time: 55.757751799999824\n"
     ]
    }
   ],
   "source": [
    "run main.py -benchmark A-n45-k7.vrp -iterations 200 -ants_num 30 -alpha 1.2 -beta 2.25 -rho 0.75"
   ]
  },
  {
   "cell_type": "markdown",
   "metadata": {},
   "source": [
    "### A-n46-k7"
   ]
  },
  {
   "cell_type": "code",
   "execution_count": 176,
   "metadata": {},
   "outputs": [
    {
     "name": "stdout",
     "output_type": "stream",
     "text": [
      "([[1, 24, 15, 44, 7, 14, 27, 39, 46, 1], [1, 5, 31, 38, 3, 11, 4, 1], [1, 22, 42, 21, 28, 2, 41, 35, 32, 30, 29, 1], [1, 10, 37, 6, 33, 23, 8, 40, 9, 12, 1], [1, 20, 16, 17, 25, 43, 34, 1], [1, 13, 36, 19, 26, 45, 1], [1, 18, 1]], 1018.3487807153022)\n",
      "Total time: 28.62022320000142\n"
     ]
    }
   ],
   "source": [
    "run main.py -benchmark A-n46-k7.vrp -iterations 100 -ants_num 30 -alpha 1.2 -beta 2.15 -rho 0.75"
   ]
  },
  {
   "cell_type": "markdown",
   "metadata": {},
   "source": [
    "### A-n48-k7"
   ]
  },
  {
   "cell_type": "code",
   "execution_count": 188,
   "metadata": {},
   "outputs": [
    {
     "name": "stdout",
     "output_type": "stream",
     "text": [
      "([[1, 30, 22, 31, 47, 14, 5, 25, 10, 29, 28, 1], [1, 33, 23, 2, 6, 13, 32, 44, 24, 1], [1, 15, 18, 42, 3, 11, 34, 1], [1, 19, 45, 36, 37, 8, 41, 46, 35, 1], [1, 40, 27, 21, 12, 43, 16, 9, 1], [1, 4, 38, 39, 20, 26, 7, 1], [1, 17, 48, 1]], 1238.172022288822)\n",
      "Total time: 43.775401599999896\n"
     ]
    }
   ],
   "source": [
    "run main.py -benchmark A-n48-k7.vrp -iterations 200 -ants_num 20 -alpha 0.9 -beta 2.15 -rho 0.7"
   ]
  },
  {
   "cell_type": "markdown",
   "metadata": {},
   "source": [
    "### A-n53-k7"
   ]
  },
  {
   "cell_type": "code",
   "execution_count": 53,
   "metadata": {},
   "outputs": [
    {
     "name": "stdout",
     "output_type": "stream",
     "text": [
      "([[1, 2, 52, 32, 21, 7, 34, 6, 40, 26, 1], [1, 13, 8, 17, 33, 16, 20, 24, 44, 51, 37, 50, 30, 45, 31, 23, 5, 1], [1, 48, 10, 18, 42, 25, 12, 53, 1], [1, 14, 35, 22, 15, 4, 1], [1, 19, 39, 36, 28, 9, 1], [1, 47, 41, 27, 11, 3, 29, 1], [1, 38, 43, 49, 46, 1]], 1149.7960900635724)\n",
      "Total time: 22.932126100000005\n"
     ]
    }
   ],
   "source": [
    "run main.py -benchmark A-n53-k7.vrp -iterations 100 -ants_num 20 -alpha 1.2 -beta 2.15 -rho 0.75"
   ]
  },
  {
   "cell_type": "markdown",
   "metadata": {},
   "source": [
    "### A-n54-k7"
   ]
  },
  {
   "cell_type": "code",
   "execution_count": 54,
   "metadata": {},
   "outputs": [
    {
     "name": "stdout",
     "output_type": "stream",
     "text": [
      "([[1, 44, 5, 29, 6, 19, 8, 40, 51, 24, 1], [1, 53, 31, 17, 7, 33, 11, 16, 36, 30, 21, 1], [1, 45, 10, 34, 22, 27, 46, 37, 50, 1], [1, 35, 42, 48, 26, 47, 43, 52, 25, 3, 13, 1], [1, 54, 23, 4, 32, 20, 1], [1, 15, 28, 38, 49, 41, 9, 1], [1, 14, 12, 39, 18, 2, 1]], 1290.0267679966753)\n",
      "Total time: 23.61462879999999\n"
     ]
    }
   ],
   "source": [
    "run main.py -benchmark A-n54-k7.vrp -iterations 100 -ants_num 20 -alpha 1.2 -beta 2.15 -rho 0.75"
   ]
  },
  {
   "cell_type": "markdown",
   "metadata": {},
   "source": [
    "### A-n55-k9"
   ]
  },
  {
   "cell_type": "code",
   "execution_count": 195,
   "metadata": {},
   "outputs": [
    {
     "name": "stdout",
     "output_type": "stream",
     "text": [
      "([[1, 37, 9, 22, 13, 33, 11, 6, 41, 1], [1, 26, 42, 30, 19, 49, 51, 45, 1], [1, 54, 48, 40, 50, 10, 36, 1], [1, 31, 23, 20, 28, 14, 55, 29, 1], [1, 5, 8, 43, 32, 27, 47, 21, 1], [1, 17, 39, 12, 16, 52, 18, 1], [1, 44, 46, 2, 7, 1], [1, 38, 4, 15, 34, 35, 3, 1], [1, 53, 25, 24, 1]], 1245.3636201587472)\n",
      "Total time: 78.15991549999853\n"
     ]
    }
   ],
   "source": [
    "run main.py -benchmark A-n55-k9.vrp -iterations 200 -ants_num 30 -alpha 1.05 -beta 2.25 -rho 0.75"
   ]
  },
  {
   "cell_type": "markdown",
   "metadata": {},
   "source": [
    "### A-n60-k9"
   ]
  },
  {
   "cell_type": "code",
   "execution_count": 199,
   "metadata": {},
   "outputs": [
    {
     "name": "stdout",
     "output_type": "stream",
     "text": [
      "([[1, 42, 19, 34, 39, 60, 20, 53, 15, 1], [1, 17, 21, 4, 26, 47, 41, 12, 5, 22, 32, 50, 3, 1], [1, 35, 7, 25, 59, 24, 48, 1], [1, 44, 57, 13, 52, 10, 33, 11, 1], [1, 56, 36, 51, 40, 16, 28, 18, 58, 38, 1], [1, 43, 46, 6, 55, 37, 1], [1, 8, 30, 14, 9, 27, 1], [1, 23, 49, 2, 45, 1], [1, 54, 31, 29, 1]], 1534.1430263035631)\n",
      "Total time: 45.189490300001125\n"
     ]
    }
   ],
   "source": [
    "run main.py -benchmark A-n60-k9.vrp -iterations 100 -ants_num 30 -alpha 1.25 -beta 2.25 -rho 0.8"
   ]
  },
  {
   "cell_type": "markdown",
   "metadata": {},
   "source": [
    "### A-n61-k9"
   ]
  },
  {
   "cell_type": "code",
   "execution_count": 200,
   "metadata": {},
   "outputs": [
    {
     "name": "stdout",
     "output_type": "stream",
     "text": [
      "([[1, 10, 52, 40, 18, 58, 53, 32, 2, 1], [1, 45, 12, 61, 29, 14, 51, 56, 1], [1, 16, 20, 24, 8, 15, 1], [1, 34, 43, 33, 44, 27, 5, 23, 13, 1], [1, 3, 6, 55, 47, 9, 7, 26, 1], [1, 41, 59, 48, 19, 36, 49, 17, 35, 1], [1, 54, 42, 21, 30, 37, 22, 57, 28, 1], [1, 39, 11, 50, 1], [1, 25, 4, 31, 38, 46, 60, 1]], 1123.2066861308465)\n",
      "Total time: 54.68441409999832\n"
     ]
    }
   ],
   "source": [
    "run main.py -benchmark A-n61-k9.vrp -iterations 100 -ants_num 30 -alpha 1.2 -beta 2.15 -rho 0.75"
   ]
  },
  {
   "cell_type": "markdown",
   "metadata": {},
   "source": [
    "### A-n62-k8"
   ]
  },
  {
   "cell_type": "code",
   "execution_count": 201,
   "metadata": {},
   "outputs": [
    {
     "name": "stdout",
     "output_type": "stream",
     "text": [
      "([[1, 29, 16, 8, 21, 54, 13, 49, 57, 15, 6, 14, 1], [1, 53, 37, 17, 38, 23, 45, 3, 39, 1], [1, 19, 31, 2, 10, 55, 43, 4, 42, 22, 32, 1], [1, 56, 27, 60, 34, 59, 18, 51, 35, 61, 1], [1, 52, 11, 9, 44, 30, 62, 33, 7, 1], [1, 20, 47, 46, 48, 25, 1], [1, 26, 12, 50, 36, 5, 24, 28, 40, 1], [1, 58, 41, 1]], 1452.1107416269087)\n",
      "Total time: 53.7046535999998\n"
     ]
    }
   ],
   "source": [
    "run main.py -benchmark A-n62-k8.vrp -iterations 100 -ants_num 30 -alpha 1.2 -beta 2.15 -rho 0.75"
   ]
  },
  {
   "cell_type": "markdown",
   "metadata": {},
   "source": [
    "### A-n63-k10"
   ]
  },
  {
   "cell_type": "code",
   "execution_count": 220,
   "metadata": {},
   "outputs": [
    {
     "name": "stdout",
     "output_type": "stream",
     "text": [
      "([[1, 49, 37, 53, 18, 21, 1], [1, 63, 51, 29, 58, 33, 45, 48, 12, 35, 52, 1], [1, 31, 5, 39, 14, 27, 44, 1], [1, 30, 57, 41, 26, 16, 50, 19, 6, 20, 43, 1], [1, 60, 11, 4, 46, 40, 42, 2, 54, 55, 8, 1], [1, 17, 38, 61, 62, 22, 25, 1], [1, 9, 36, 28, 7, 13, 1], [1, 23, 59, 56, 34, 1], [1, 32, 24, 47, 1], [1, 15, 3, 10, 1]], 1509.540000680847)\n",
      "Total time: 36.005266800000754\n"
     ]
    }
   ],
   "source": [
    "run main.py -benchmark A-n63-k10.vrp -iterations 100 -ants_num 18 -alpha 0.9 -beta 1.95 -rho 0.75"
   ]
  },
  {
   "cell_type": "markdown",
   "metadata": {},
   "source": [
    "### A-n63-k9"
   ]
  },
  {
   "cell_type": "code",
   "execution_count": 212,
   "metadata": {},
   "outputs": [
    {
     "name": "stdout",
     "output_type": "stream",
     "text": [
      "([[1, 12, 34, 45, 16, 57, 20, 1], [1, 27, 8, 26, 21, 14, 17, 13, 11, 1], [1, 22, 33, 56, 59, 41, 15, 51, 52, 53, 1], [1, 61, 62, 4, 42, 43, 32, 47, 2, 48, 1], [1, 55, 30, 31, 3, 35, 49, 1], [1, 6, 46, 28, 60, 25, 9, 50, 1], [1, 7, 38, 36, 18, 23, 29, 54, 1], [1, 40, 24, 63, 58, 19, 5, 1], [1, 37, 10, 39, 44, 1]], 1807.5418950512724)\n",
      "Total time: 35.039669399999184\n"
     ]
    }
   ],
   "source": [
    "run main.py -benchmark A-n63-k9.vrp -iterations 100 -ants_num 20 -alpha 1.2 -beta 2.15 -rho 0.65"
   ]
  },
  {
   "cell_type": "markdown",
   "metadata": {},
   "source": [
    "### A-n64-k9"
   ]
  },
  {
   "cell_type": "code",
   "execution_count": 206,
   "metadata": {},
   "outputs": [
    {
     "name": "stdout",
     "output_type": "stream",
     "text": [
      "([[1, 11, 42, 57, 53, 14, 62, 25, 61, 17, 9, 47, 1], [1, 7, 30, 26, 49, 43, 33, 1], [1, 18, 2, 28, 15, 36, 27, 22, 8, 41, 37, 40, 45, 10, 1], [1, 48, 64, 3, 59, 6, 55, 1], [1, 51, 32, 60, 56, 50, 38, 35, 24, 54, 1], [1, 34, 46, 16, 12, 58, 31, 44, 1], [1, 39, 19, 23, 13, 29, 1], [1, 63, 4, 21, 1], [1, 20, 52, 5, 1]], 1588.4579254250375)\n",
      "Total time: 58.72835320000013\n"
     ]
    }
   ],
   "source": [
    "run main.py -benchmark A-n64-k9.vrp -iterations 100 -ants_num 30 -alpha 1.2 -beta 2.1 -rho 0.75"
   ]
  },
  {
   "cell_type": "markdown",
   "metadata": {},
   "source": [
    "### A-n69-k9"
   ]
  },
  {
   "cell_type": "code",
   "execution_count": 5,
   "metadata": {},
   "outputs": [
    {
     "name": "stdout",
     "output_type": "stream",
     "text": [
      "([[1, 20, 25, 44, 53, 55, 27, 6, 47, 1], [1, 8, 29, 35, 15, 43, 58, 26, 12, 64, 38, 11, 1], [1, 32, 19, 54, 24, 10, 50, 34, 1], [1, 3, 65, 62, 68, 22, 28, 66, 1], [1, 63, 57, 40, 9, 60, 21, 42, 1], [1, 23, 13, 30, 41, 39, 69, 67, 59, 1], [1, 17, 51, 18, 33, 37, 2, 49, 1], [1, 31, 52, 4, 16, 45, 14, 36, 46, 7, 1], [1, 56, 61, 5, 48, 1]], 1316.2233033671428)\n",
      "Total time: 40.45434639999999\n"
     ]
    }
   ],
   "source": [
    "run main.py -benchmark A-n69-k9.vrp -ants_num 20 -alpha 1.2 -beta 2.1 -rho 0.75"
   ]
  },
  {
   "cell_type": "markdown",
   "metadata": {},
   "source": [
    "### A-n80-k10 "
   ]
  },
  {
   "cell_type": "code",
   "execution_count": 7,
   "metadata": {},
   "outputs": [
    {
     "name": "stdout",
     "output_type": "stream",
     "text": [
      "([[1, 50, 74, 37, 54, 67, 68, 71, 73, 77, 51, 55, 34, 1], [1, 14, 43, 52, 78, 4, 40, 61, 32, 1], [1, 41, 22, 8, 2, 80, 1], [1, 12, 11, 72, 15, 53, 29, 49, 19, 35, 79, 1], [1, 39, 59, 33, 5, 23, 46, 65, 1], [1, 10, 56, 57, 70, 66, 36, 27, 20, 58, 76, 1], [1, 47, 26, 42, 16, 48, 69, 62, 21, 17, 44, 28, 1], [1, 75, 30, 18, 60, 31, 25, 6, 1], [1, 3, 38, 9, 7, 24, 45, 1], [1, 64, 63, 13, 1]], 2140.1620065890875)\n",
      "Total time: 57.04423480000003\n"
     ]
    }
   ],
   "source": [
    "run main.py -benchmark A-n80-k10.vrp -ants_num 16 -alpha 1.5 -beta 2.05 -rho 0.88"
   ]
  },
  {
   "cell_type": "markdown",
   "metadata": {},
   "source": [
    "# Benchmark B"
   ]
  },
  {
   "cell_type": "markdown",
   "metadata": {},
   "source": [
    "### B-n31-k5"
   ]
  },
  {
   "cell_type": "code",
   "execution_count": 224,
   "metadata": {},
   "outputs": [
    {
     "name": "stdout",
     "output_type": "stream",
     "text": [
      "([[1, 21, 11, 28, 3, 15, 16, 12, 25, 20, 22, 1], [1, 27, 29, 13, 9, 24, 31, 1], [1, 8, 23, 30, 5, 6, 26, 1], [1, 2, 4, 7, 10, 14, 18, 1], [1, 19, 17, 1]], 711.490726415519)\n",
      "Total time: 16.1412392000002\n"
     ]
    }
   ],
   "source": [
    "run main.py -benchmark B-n31-k5.vrp -ants_num 30 -alpha 1.2 -beta 2.05 -rho 0.75"
   ]
  },
  {
   "cell_type": "markdown",
   "metadata": {},
   "source": [
    "### B-n34-k5"
   ]
  },
  {
   "cell_type": "code",
   "execution_count": 88,
   "metadata": {},
   "outputs": [
    {
     "name": "stdout",
     "output_type": "stream",
     "text": [
      "([[1, 6, 7, 26, 18, 32, 16, 14, 29, 20, 1], [1, 12, 31, 23, 33, 34, 1], [1, 2, 19, 25, 15, 17, 30, 28, 4, 13, 27, 11, 24, 1], [1, 3, 22, 8, 5, 21, 9, 1], [1, 10, 1]], 846.3009072983293)\n",
      "Total time: 9.646691000000374\n"
     ]
    }
   ],
   "source": [
    "run main.py -benchmark B-n34-k5.vrp -ants_num 16 -alpha 1.5 -beta 2.05 -rho 0.88"
   ]
  },
  {
   "cell_type": "markdown",
   "metadata": {},
   "source": [
    "### B-n35-k5"
   ]
  },
  {
   "cell_type": "code",
   "execution_count": 226,
   "metadata": {},
   "outputs": [
    {
     "name": "stdout",
     "output_type": "stream",
     "text": [
      "([[1, 30, 18, 13, 11, 17, 2, 1], [1, 8, 21, 24, 10, 27, 19, 7, 34, 4, 32, 1], [1, 6, 31, 23, 16, 20, 12, 3, 1], [1, 15, 35, 28, 25, 5, 29, 33, 14, 1], [1, 9, 26, 22, 1]], 1024.2506263563591)\n",
      "Total time: 11.425648699998419\n"
     ]
    }
   ],
   "source": [
    "run main.py -benchmark B-n35-k5.vrp -ants_num 20 -alpha 1.2 -beta 2.05 -rho 0.75"
   ]
  },
  {
   "cell_type": "markdown",
   "metadata": {},
   "source": [
    "### B-n38-k6"
   ]
  },
  {
   "cell_type": "code",
   "execution_count": 109,
   "metadata": {},
   "outputs": [
    {
     "name": "stdout",
     "output_type": "stream",
     "text": [
      "([[1, 17, 27, 32, 20, 7, 10, 38, 3, 29, 1], [1, 13, 30, 25, 9, 37, 18, 35, 28, 6, 1], [1, 23, 12, 33, 4, 15, 22, 1], [1, 36, 31, 5, 34, 19, 24, 1], [1, 21, 16, 11, 2, 14, 1], [1, 8, 26, 1]], 898.7429595150761)\n",
      "Total time: 11.705769600000167\n"
     ]
    }
   ],
   "source": [
    "run main.py -benchmark B-n38-k6.vrp -ants_num 16 -alpha 1.5 -beta 2.05 -rho 0.88"
   ]
  },
  {
   "cell_type": "markdown",
   "metadata": {},
   "source": [
    "### B-n39-k5"
   ]
  },
  {
   "cell_type": "code",
   "execution_count": 236,
   "metadata": {},
   "outputs": [
    {
     "name": "stdout",
     "output_type": "stream",
     "text": [
      "([[1, 19, 7, 11, 14, 8, 35, 21, 10, 30, 1], [1, 4, 32, 29, 37, 5, 36, 18, 39, 6, 1], [1, 34, 22, 25, 3, 38, 24, 31, 17, 23, 2, 27, 1], [1, 28, 33, 26, 13, 12, 16, 1], [1, 20, 15, 9, 1]], 664.0838501919503)\n",
      "Total time: 15.759371900001497\n"
     ]
    }
   ],
   "source": [
    "run main.py -benchmark B-n39-k5.vrp -iterations 100 -ants_num 20 -alpha 0.9 -beta 2.65 -rho 0.85"
   ]
  },
  {
   "cell_type": "markdown",
   "metadata": {},
   "source": [
    "### B-n41-k6"
   ]
  },
  {
   "cell_type": "code",
   "execution_count": 227,
   "metadata": {},
   "outputs": [
    {
     "name": "stdout",
     "output_type": "stream",
     "text": [
      "([[1, 26, 28, 20, 27, 39, 40, 1], [1, 5, 31, 8, 17, 21, 41, 13, 1], [1, 36, 25, 3, 38, 10, 22, 19, 4, 1], [1, 7, 35, 34, 12, 29, 18, 15, 2, 1], [1, 6, 16, 32, 23, 14, 9, 1], [1, 30, 11, 24, 37, 33, 1]], 876.6324661747105)\n",
      "Total time: 16.517895599999974\n"
     ]
    }
   ],
   "source": [
    "run main.py -benchmark B-n41-k6.vrp -ants_num 20 -alpha 1.5 -beta 2.05 -rho 0.75"
   ]
  },
  {
   "cell_type": "markdown",
   "metadata": {},
   "source": [
    "### B-n43-k6"
   ]
  },
  {
   "cell_type": "code",
   "execution_count": 92,
   "metadata": {},
   "outputs": [
    {
     "name": "stdout",
     "output_type": "stream",
     "text": [
      "([[1, 5, 36, 42, 41, 28, 26, 33, 30, 6, 22, 1], [1, 34, 21, 19, 15, 29, 20, 38, 24, 13, 1], [1, 27, 43, 40, 35, 8, 17, 16, 39, 11, 1], [1, 10, 32, 9, 3, 2, 1], [1, 18, 37, 7, 25, 23, 4, 12, 1], [1, 31, 14, 1]], 828.174187544646)\n",
      "Total time: 14.58413180000025\n"
     ]
    }
   ],
   "source": [
    "run main.py -benchmark B-n43-k6.vrp -ants_num 16 -alpha 1.5 -beta 2.05 -rho 0.88"
   ]
  },
  {
   "cell_type": "markdown",
   "metadata": {},
   "source": [
    "### B-n44-k7"
   ]
  },
  {
   "cell_type": "code",
   "execution_count": 233,
   "metadata": {},
   "outputs": [
    {
     "name": "stdout",
     "output_type": "stream",
     "text": [
      "([[1, 8, 17, 19, 30, 20, 33, 22, 42, 1], [1, 2, 26, 29, 13, 4, 21, 1], [1, 18, 6, 41, 36, 28, 32, 44, 16, 1], [1, 34, 40, 25, 27, 15, 37, 3, 10, 1], [1, 5, 39, 23, 43, 31, 12, 14, 1], [1, 24, 11, 9, 1], [1, 7, 35, 38, 1]], 1009.7826981233266)\n",
      "Total time: 18.272296799999822\n"
     ]
    }
   ],
   "source": [
    "run main.py -benchmark B-n44-k7.vrp -ants_num 20 -alpha 1.5 -beta 2.65 -rho 0.75"
   ]
  },
  {
   "cell_type": "markdown",
   "metadata": {},
   "source": [
    "### B-n45-k5"
   ]
  },
  {
   "cell_type": "code",
   "execution_count": 94,
   "metadata": {},
   "outputs": [
    {
     "name": "stdout",
     "output_type": "stream",
     "text": [
      "([[1, 19, 8, 35, 15, 28, 25, 36, 21, 39, 32, 4, 1], [1, 31, 24, 18, 40, 11, 37, 2, 45, 1], [1, 20, 34, 27, 26, 12, 30, 17, 5, 9, 23, 1], [1, 29, 3, 16, 33, 38, 10, 1], [1, 6, 7, 13, 22, 44, 42, 41, 43, 14, 1]], 822.9121598491802)\n",
      "Total time: 15.311124500000005\n"
     ]
    }
   ],
   "source": [
    "run main.py -benchmark B-n45-k5.vrp -ants_num 16 -alpha 1.5 -beta 2.05 -rho 0.88"
   ]
  },
  {
   "cell_type": "markdown",
   "metadata": {},
   "source": [
    "### B-n45-k6"
   ]
  },
  {
   "cell_type": "code",
   "execution_count": 95,
   "metadata": {},
   "outputs": [
    {
     "name": "stdout",
     "output_type": "stream",
     "text": [
      "([[1, 17, 44, 14, 30, 26, 13, 1], [1, 28, 20, 38, 24, 33, 29, 9, 23, 40, 5, 1], [1, 39, 42, 32, 22, 10, 19, 1], [1, 25, 18, 15, 3, 11, 37, 12, 21, 8, 34, 16, 1], [1, 31, 6, 2, 43, 27, 1], [1, 35, 7, 4, 41, 36, 45, 1]], 743.042728823719)\n",
      "Total time: 15.65579979999984\n"
     ]
    }
   ],
   "source": [
    "run main.py -benchmark B-n45-k6.vrp -ants_num 16 -alpha 1.5 -beta 2.05 -rho 0.88"
   ]
  },
  {
   "cell_type": "markdown",
   "metadata": {},
   "source": [
    "### B-n50-k7"
   ]
  },
  {
   "cell_type": "code",
   "execution_count": 96,
   "metadata": {},
   "outputs": [
    {
     "name": "stdout",
     "output_type": "stream",
     "text": [
      "([[1, 31, 8, 19, 15, 25, 44, 28, 17, 43, 11, 4, 48, 1], [1, 42, 32, 34, 23, 13, 39, 10, 24, 36, 5, 1], [1, 35, 50, 41, 16, 7, 3, 33, 49, 45, 1], [1, 29, 18, 20, 26, 1], [1, 21, 38, 12, 9, 6, 22, 46, 37, 1], [1, 30, 47, 40, 27, 1], [1, 2, 14, 1]], 838.2066992464167)\n",
      "Total time: 16.81944680000015\n"
     ]
    }
   ],
   "source": [
    "run main.py -benchmark B-n50-k7.vrp -ants_num 16 -alpha 1.5 -beta 2.05 -rho 0.88"
   ]
  },
  {
   "cell_type": "markdown",
   "metadata": {},
   "source": [
    "### B-n50-k8"
   ]
  },
  {
   "cell_type": "code",
   "execution_count": 238,
   "metadata": {},
   "outputs": [
    {
     "name": "stdout",
     "output_type": "stream",
     "text": [
      "([[1, 3, 35, 49, 41, 45, 7, 32, 31, 21, 28, 13, 1], [1, 8, 38, 10, 34, 37, 44, 12, 25, 50, 1], [1, 17, 26, 5, 48, 27, 19, 1], [1, 15, 14, 4, 23, 39, 47, 24, 1], [1, 33, 30, 20, 29, 2, 1], [1, 16, 9, 43, 18, 22, 11, 1], [1, 6, 40, 1], [1, 42, 46, 36, 1]], 1396.1684293394696)\n",
      "Total time: 24.483509100000447\n"
     ]
    }
   ],
   "source": [
    "run main.py -benchmark B-n50-k8.vrp -ants_num 20 -alpha 1.2 -beta 2.05 -rho 0.75"
   ]
  },
  {
   "cell_type": "markdown",
   "metadata": {},
   "source": [
    "### B-n51-k7"
   ]
  },
  {
   "cell_type": "code",
   "execution_count": 98,
   "metadata": {},
   "outputs": [
    {
     "name": "stdout",
     "output_type": "stream",
     "text": [
      "([[1, 6, 37, 41, 18, 11, 17, 3, 39, 35, 44, 1], [1, 30, 40, 19, 14, 1], [1, 23, 25, 47, 26, 46, 48, 16, 24, 51, 1], [1, 7, 8, 29, 27, 43, 15, 1], [1, 38, 33, 42, 28, 32, 13, 9, 1], [1, 12, 5, 49, 34, 20, 4, 36, 1], [1, 22, 45, 21, 2, 10, 50, 31, 1]], 1075.5523489328891)\n",
      "Total time: 19.550361500000236\n"
     ]
    }
   ],
   "source": [
    "run main.py -benchmark B-n51-k7.vrp -ants_num 16 -alpha 1.5 -beta 2.05 -rho 0.88"
   ]
  },
  {
   "cell_type": "markdown",
   "metadata": {},
   "source": [
    "### B-n52-k7"
   ]
  },
  {
   "cell_type": "code",
   "execution_count": 286,
   "metadata": {},
   "outputs": [
    {
     "name": "stdout",
     "output_type": "stream",
     "text": [
      "([[1, 3, 49, 10, 17, 39, 16, 20, 33, 35, 47, 18, 50, 1], [1, 42, 26, 37, 7, 48, 38, 45, 11, 1], [1, 41, 43, 21, 31, 19, 2, 9, 1], [1, 29, 12, 22, 15, 40, 25, 32, 4, 13, 51, 46, 1], [1, 36, 34, 8, 6, 52, 28, 30, 1], [1, 24, 5, 27, 23, 14, 1], [1, 44, 1]], 856.7693260953807)\n",
      "Total time: 24.519183899999916\n"
     ]
    }
   ],
   "source": [
    "run main.py -benchmark B-n52-k7.vrp -iterations 100 -ants_num 18 -alpha 1. -beta 1.65 -rho 0.85"
   ]
  },
  {
   "cell_type": "markdown",
   "metadata": {},
   "source": [
    "### B-n56-k7"
   ]
  },
  {
   "cell_type": "code",
   "execution_count": 265,
   "metadata": {},
   "outputs": [
    {
     "name": "stdout",
     "output_type": "stream",
     "text": [
      "([[1, 28, 17, 36, 2, 53, 4, 14, 50, 37, 30, 43, 27, 1], [1, 33, 34, 3, 55, 35, 31, 56, 12, 32, 21, 44, 11, 1], [1, 26, 54, 7, 25, 42, 46, 48, 16, 1], [1, 8, 38, 40, 5, 22, 1], [1, 41, 52, 45, 15, 18, 9, 29, 47, 1], [1, 20, 19, 24, 13, 51, 23, 39, 10, 6, 1], [1, 49, 1]], 837.9385497323917)\n",
      "Total time: 29.490559999998368\n"
     ]
    }
   ],
   "source": [
    "run main.py -benchmark B-n56-k7.vrp -ants_num 20 -alpha 1.2 -beta 2.55 -rho 0.75"
   ]
  },
  {
   "cell_type": "markdown",
   "metadata": {},
   "source": [
    "### B-n57-k7"
   ]
  },
  {
   "cell_type": "code",
   "execution_count": 268,
   "metadata": {},
   "outputs": [
    {
     "name": "stdout",
     "output_type": "stream",
     "text": [
      "([[1, 32, 12, 7, 16, 46, 4, 1], [1, 55, 36, 41, 30, 5, 47, 24, 28, 17, 25, 1], [1, 52, 10, 9, 29, 26, 54, 13, 37, 39, 19, 1], [1, 3, 31, 51, 53, 43, 23, 15, 40, 2, 49, 1], [1, 38, 21, 48, 33, 8, 44, 56, 1], [1, 6, 34, 14, 50, 57, 27, 20, 1], [1, 45, 22, 11, 42, 18, 35, 1]], 1278.3123029710405)\n",
      "Total time: 30.351579799998945\n"
     ]
    }
   ],
   "source": [
    "run main.py -benchmark B-n57-k7.vrp -ants_num 20 -alpha 0.9 -beta 2.55 -rho 0.7"
   ]
  },
  {
   "cell_type": "markdown",
   "metadata": {},
   "source": [
    "### B-n57-k9"
   ]
  },
  {
   "cell_type": "code",
   "execution_count": 262,
   "metadata": {},
   "outputs": [
    {
     "name": "stdout",
     "output_type": "stream",
     "text": [
      "([[1, 30, 54, 42, 22, 37, 48, 6, 5, 50, 1], [1, 10, 29, 28, 19, 55, 44, 2, 49, 1], [1, 7, 33, 23, 57, 11, 18, 32, 1], [1, 20, 35, 15, 14, 45, 17, 43, 8, 1], [1, 38, 12, 21, 3, 24, 1], [1, 53, 25, 46, 36, 34, 1], [1, 9, 16, 52, 26, 27, 40, 31, 1], [1, 47, 4, 41, 51, 56, 39, 1], [1, 13, 1]], 1792.6944225853476)\n",
      "Total time: 25.805204700000104\n"
     ]
    }
   ],
   "source": [
    "run main.py -benchmark B-n57-k9.vrp -ants_num 16 -alpha 1.2 -beta 2.55 -rho 0.75"
   ]
  },
  {
   "cell_type": "markdown",
   "metadata": {},
   "source": [
    "### B-n63-k10"
   ]
  },
  {
   "cell_type": "code",
   "execution_count": 274,
   "metadata": {},
   "outputs": [
    {
     "name": "stdout",
     "output_type": "stream",
     "text": [
      "([[1, 29, 30, 33, 49, 61, 6, 1], [1, 14, 56, 45, 17, 41, 32, 47, 1], [1, 16, 48, 10, 31, 9, 5, 1], [1, 58, 54, 39, 24, 12, 18, 25, 44, 13, 1], [1, 19, 51, 2, 28, 21, 37, 8, 1], [1, 63, 3, 22, 52, 20, 53, 40, 36, 1], [1, 38, 11, 43, 62, 23, 35, 26, 1], [1, 42, 55, 59, 15, 27, 7, 34, 1], [1, 4, 50, 57, 60, 1], [1, 46, 1]], 1662.8403360605553)\n",
      "Total time: 38.32307299999957\n"
     ]
    }
   ],
   "source": [
    "run main.py -benchmark B-n63-k10.vrp -ants_num 20 -alpha 1.2 -beta 2.55 -rho 0.75"
   ]
  },
  {
   "cell_type": "markdown",
   "metadata": {},
   "source": [
    "### B-n64-k9"
   ]
  },
  {
   "cell_type": "code",
   "execution_count": 264,
   "metadata": {},
   "outputs": [
    {
     "name": "stdout",
     "output_type": "stream",
     "text": [
      "([[1, 20, 16, 6, 5, 60, 15, 36, 49, 23, 25, 1], [1, 33, 4, 10, 38, 13, 11, 19, 62, 34, 1], [1, 44, 50, 63, 53, 21, 1], [1, 35, 41, 39, 28, 22, 9, 18, 31, 47, 1], [1, 56, 52, 61, 37, 14, 57, 1], [1, 2, 27, 42, 55, 8, 32, 1], [1, 51, 48, 30, 12, 29, 1], [1, 24, 26, 58, 43, 64, 3, 40, 1], [1, 17, 46, 45, 59, 54, 7, 1]], 991.4726316141306)\n",
      "Total time: 40.20185219999985\n"
     ]
    }
   ],
   "source": [
    "run main.py -benchmark B-n64-k9.vrp -ants_num 20 -alpha 1.2 -beta 2.55 -rho 0.75"
   ]
  },
  {
   "cell_type": "markdown",
   "metadata": {},
   "source": [
    "### B-n66-k9"
   ]
  },
  {
   "cell_type": "code",
   "execution_count": 248,
   "metadata": {},
   "outputs": [
    {
     "name": "stdout",
     "output_type": "stream",
     "text": [
      "([[1, 2, 24, 19, 55, 54, 21, 42, 1], [1, 53, 18, 56, 35, 52, 44, 1], [1, 46, 32, 12, 58, 39, 20, 36, 23, 57, 1], [1, 34, 66, 9, 16, 61, 5, 40, 15, 4, 30, 22, 37, 1], [1, 8, 17, 63, 49, 26, 38, 60, 65, 31, 1], [1, 59, 33, 41, 6, 28, 43, 1], [1, 14, 51, 29, 48, 62, 7, 1], [1, 11, 27, 47, 64, 45, 3, 1], [1, 25, 13, 50, 10, 1]], 1389.2222439843056)\n",
      "Total time: 29.6365478000007\n"
     ]
    }
   ],
   "source": [
    "run main.py -benchmark B-n66-k9.vrp -ants_num 16 -alpha 1.5 -beta 2.05 -rho 0.75"
   ]
  },
  {
   "cell_type": "markdown",
   "metadata": {},
   "source": [
    "### B-n67-k10"
   ]
  },
  {
   "cell_type": "code",
   "execution_count": 258,
   "metadata": {},
   "outputs": [
    {
     "name": "stdout",
     "output_type": "stream",
     "text": [
      "([[1, 16, 57, 59, 14, 29, 13, 64, 1], [1, 63, 62, 31, 58, 4, 61, 41, 1], [1, 40, 43, 45, 54, 37, 65, 5, 15, 36, 67, 1], [1, 34, 48, 27, 3, 19, 32, 44, 33, 1], [1, 23, 53, 46, 55, 56, 26, 22, 49, 10, 1], [1, 17, 42, 28, 11, 39, 18, 30, 60, 1], [1, 7, 35, 2, 50, 20, 21, 1], [1, 52, 25, 38, 66, 24, 1], [1, 51, 12, 8, 47, 9, 1], [1, 6, 1]], 1251.3971991308952)\n",
      "Total time: 41.83414570000059\n"
     ]
    }
   ],
   "source": [
    "run main.py -benchmark B-n67-k10.vrp -ants_num 20 -alpha 1.2 -beta 2.05 -rho 0.75"
   ]
  },
  {
   "cell_type": "markdown",
   "metadata": {},
   "source": [
    "### B-n68-k9"
   ]
  },
  {
   "cell_type": "code",
   "execution_count": 267,
   "metadata": {},
   "outputs": [
    {
     "name": "stdout",
     "output_type": "stream",
     "text": [
      "([[1, 54, 39, 51, 41, 56, 40, 24, 64, 34, 1], [1, 10, 49, 45, 35, 60, 17, 13, 46, 31, 1], [1, 20, 26, 12, 4, 30, 68, 37, 33, 7, 43, 53, 1], [1, 61, 5, 48, 36, 28, 65, 16, 57, 1], [1, 32, 2, 19, 25, 29, 59, 11, 1], [1, 62, 52, 58, 50, 23, 1], [1, 6, 15, 63, 55, 22, 47, 14, 8, 1], [1, 18, 21, 27, 42, 38, 9, 3, 1], [1, 66, 44, 67, 1]], 1472.2436829990588)\n",
      "Total time: 42.98247650000121\n"
     ]
    }
   ],
   "source": [
    "run main.py -benchmark B-n68-k9.vrp -ants_num 20 -alpha 1.2 -beta 2.55 -rho 0.75"
   ]
  },
  {
   "cell_type": "markdown",
   "metadata": {},
   "source": [
    "### B-n78-k10"
   ]
  },
  {
   "cell_type": "code",
   "execution_count": 260,
   "metadata": {},
   "outputs": [
    {
     "name": "stdout",
     "output_type": "stream",
     "text": [
      "([[1, 18, 73, 59, 39, 70, 68, 44, 22, 53, 1], [1, 2, 25, 57, 3, 28, 48, 64, 50, 1], [1, 14, 49, 40, 75, 29, 20, 10, 62, 56, 37, 42, 15, 1], [1, 52, 16, 13, 35, 72, 23, 9, 8, 33, 32, 1], [1, 78, 24, 45, 27, 12, 65, 41, 54, 11, 17, 67, 1], [1, 6, 31, 38, 76, 30, 71, 66, 1], [1, 46, 47, 55, 21, 4, 74, 61, 1], [1, 51, 5, 60, 36, 34, 1], [1, 58, 77, 63, 7, 69, 1], [1, 26, 19, 43, 1]], 1445.332575544198)\n",
      "Total time: 54.0876432999994\n"
     ]
    }
   ],
   "source": [
    "run main.py -benchmark B-n78-k10.vrp -ants_num 20 -alpha 1.2 -beta 2.75 -rho 0.75"
   ]
  },
  {
   "cell_type": "code",
   "execution_count": null,
   "metadata": {},
   "outputs": [],
   "source": []
  }
 ],
 "metadata": {
  "kernelspec": {
   "display_name": "Python 3",
   "language": "python",
   "name": "python3"
  },
  "language_info": {
   "codemirror_mode": {
    "name": "ipython",
    "version": 3
   },
   "file_extension": ".py",
   "mimetype": "text/x-python",
   "name": "python",
   "nbconvert_exporter": "python",
   "pygments_lexer": "ipython3",
   "version": "3.7.9"
  }
 },
 "nbformat": 4,
 "nbformat_minor": 2
}
