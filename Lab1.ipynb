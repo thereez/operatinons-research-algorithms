{
 "cells": [
  {
   "cell_type": "code",
   "execution_count": 7,
   "metadata": {},
   "outputs": [],
   "source": [
    "import numpy as np"
   ]
  },
  {
   "cell_type": "code",
   "execution_count": 8,
   "metadata": {},
   "outputs": [],
   "source": [
    "def naive_matcher(pattern, string):\n",
    "    pattern_length = len(pattern)\n",
    "    string_length = len(string)\n",
    "    \n",
    "    for i in range(string_length - pattern_length + 1):\n",
    "        j = 0\n",
    "        while(j<pattern_length):\n",
    "            if string[i+j] != pattern[j]:\n",
    "                break\n",
    "            j += 1\n",
    "        \n",
    "        if j == pattern_length:\n",
    "            print(\"Pattern found at index:\", i)    "
   ]
  },
  {
   "cell_type": "code",
   "execution_count": 9,
   "metadata": {},
   "outputs": [],
   "source": [
    "def RK_matcher(pattern, string):\n",
    "    p = 31\n",
    "    m = 256\n",
    "    pattern_length = len(pattern)\n",
    "    string_length = len(string)\n",
    "    p_pow = np.zeros(max(string_length, pattern_length), dtype = np.int64)\n",
    "    p_pow[0] = 1\n",
    "    for i in range(1, len(p_pow)):\n",
    "        p_pow[i] = (p_pow[i-1] * p) % m\n",
    "\n",
    "    \n",
    "    h = np.zeros(string_length + 1, dtype = np.int64)\n",
    "    \n",
    "    for i in range(string_length):\n",
    "        h[i+1] = (h[i] + (ord(string[i]) - ord('a') + 1) * p_pow[i]) % m\n",
    "    h_s = 0\n",
    "    for i in range(pattern_length):\n",
    "        h_s = (h_s + (ord(pattern[i]) - ord('a') + 1) * p_pow[i]) % m\n",
    "    \n",
    "    occurences = []\n",
    "    i = 0\n",
    "    for i in range(string_length - pattern_length + 1):\n",
    "        cur_h = (h[i + pattern_length] + m - h[i]) % m\n",
    "        if (cur_h == (h_s * p_pow[i]) % m):\n",
    "            occurences.append(i)\n",
    "    return occurences"
   ]
  },
  {
   "cell_type": "code",
   "execution_count": 10,
   "metadata": {},
   "outputs": [],
   "source": [
    "string = \"randomlongsubstringtextapatternsdfgglongsubstringerrandomtextapatternasnlongsubstringierggsdf\"\n",
    "pattern = \"longsubstring\""
   ]
  },
  {
   "cell_type": "code",
   "execution_count": 11,
   "metadata": {},
   "outputs": [
    {
     "name": "stdout",
     "output_type": "stream",
     "text": [
      "Pattern found at index: 6\n",
      "Pattern found at index: 36\n",
      "Pattern found at index: 72\n"
     ]
    }
   ],
   "source": [
    "naive_matcher(pattern, string)"
   ]
  },
  {
   "cell_type": "code",
   "execution_count": 12,
   "metadata": {},
   "outputs": [
    {
     "data": {
      "text/plain": [
       "[6, 36, 72]"
      ]
     },
     "execution_count": 12,
     "metadata": {},
     "output_type": "execute_result"
    }
   ],
   "source": [
    "RK_matcher(pattern, string)"
   ]
  },
  {
   "cell_type": "code",
   "execution_count": null,
   "metadata": {},
   "outputs": [],
   "source": []
  }
 ],
 "metadata": {
  "kernelspec": {
   "display_name": "Python 3",
   "language": "python",
   "name": "python3"
  },
  "language_info": {
   "codemirror_mode": {
    "name": "ipython",
    "version": 3
   },
   "file_extension": ".py",
   "mimetype": "text/x-python",
   "name": "python",
   "nbconvert_exporter": "python",
   "pygments_lexer": "ipython3",
   "version": "3.7.9"
  }
 },
 "nbformat": 4,
 "nbformat_minor": 4
}
