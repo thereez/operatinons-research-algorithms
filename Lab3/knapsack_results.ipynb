{
 "cells": [
  {
   "cell_type": "code",
   "execution_count": 2,
   "metadata": {},
   "outputs": [],
   "source": [
    "from algorithms.knapsack.knapsack import *"
   ]
  },
  {
   "cell_type": "markdown",
   "metadata": {},
   "source": [
    "## Benchmarks"
   ]
  },
  {
   "cell_type": "markdown",
   "metadata": {},
   "source": [
    "## #1"
   ]
  },
  {
   "cell_type": "code",
   "execution_count": 14,
   "metadata": {},
   "outputs": [
    {
     "name": "stdout",
     "output_type": "stream",
     "text": [
      "Best answer: [1 1 1 1 0 1 0 0 0 0]\n",
      "Best capacity: 165\n",
      "Best costs: 309\n",
      "Execution time: 0.0929\n"
     ]
    }
   ],
   "source": [
    "data = parse_data(1)\n",
    "solve(data, crossover_rate=0.8, mutation_rate=0.3, epochs=100, population_size=20)"
   ]
  },
  {
   "cell_type": "markdown",
   "metadata": {},
   "source": [
    "## #2"
   ]
  },
  {
   "cell_type": "code",
   "execution_count": 15,
   "metadata": {},
   "outputs": [
    {
     "name": "stdout",
     "output_type": "stream",
     "text": [
      "Best answer: [0 1 1 1 0]\n",
      "Best capacity: 26\n",
      "Best costs: 51\n",
      "Execution time: 0.0706\n"
     ]
    }
   ],
   "source": [
    "data = parse_data(2)\n",
    "solve(data, crossover_rate=0.8, mutation_rate=0.3, epochs=100, population_size=20)"
   ]
  },
  {
   "cell_type": "markdown",
   "metadata": {},
   "source": [
    "## #3"
   ]
  },
  {
   "cell_type": "code",
   "execution_count": 19,
   "metadata": {},
   "outputs": [
    {
     "name": "stdout",
     "output_type": "stream",
     "text": [
      "Best answer: [1 1 0 0 1 0]\n",
      "Best capacity: 190\n",
      "Best costs: 150\n",
      "Execution time: 0.0428\n"
     ]
    }
   ],
   "source": [
    "data = parse_data(3)\n",
    "solve(data, crossover_rate=0.8, mutation_rate=0.2, epochs=100, population_size=10)"
   ]
  },
  {
   "cell_type": "markdown",
   "metadata": {},
   "source": [
    "## #4"
   ]
  },
  {
   "cell_type": "code",
   "execution_count": 23,
   "metadata": {},
   "outputs": [
    {
     "name": "stdout",
     "output_type": "stream",
     "text": [
      "Best answer: [1 0 0 1 0 0 0]\n",
      "Best capacity: 50\n",
      "Best costs: 107\n",
      "Execution time: 0.0640\n"
     ]
    }
   ],
   "source": [
    "data = parse_data(4)\n",
    "solve(data, crossover_rate=0.8, mutation_rate=0.1, epochs=100, population_size=20)"
   ]
  },
  {
   "cell_type": "markdown",
   "metadata": {},
   "source": [
    "## #5"
   ]
  },
  {
   "cell_type": "code",
   "execution_count": 32,
   "metadata": {},
   "outputs": [
    {
     "name": "stdout",
     "output_type": "stream",
     "text": [
      "Best answer: [1 0 1 1 1 0 1 1]\n",
      "Best capacity: 104\n",
      "Best costs: 900\n",
      "Execution time: 0.0698\n"
     ]
    }
   ],
   "source": [
    "data = parse_data(5)\n",
    "solve(data, crossover_rate=0.9, mutation_rate=0.3, epochs=100, population_size=20)"
   ]
  },
  {
   "cell_type": "markdown",
   "metadata": {},
   "source": [
    "## #6"
   ]
  },
  {
   "cell_type": "code",
   "execution_count": 35,
   "metadata": {},
   "outputs": [
    {
     "name": "stdout",
     "output_type": "stream",
     "text": [
      "Best answer: [0 1 0 1 0 0 1]\n",
      "Best capacity: 169\n",
      "Best costs: 1735\n",
      "Execution time: 0.0679\n"
     ]
    }
   ],
   "source": [
    "data = parse_data(6)\n",
    "solve(data, crossover_rate=0.8, mutation_rate=0.2, epochs=100, population_size=20)"
   ]
  },
  {
   "cell_type": "markdown",
   "metadata": {},
   "source": [
    "## #7"
   ]
  },
  {
   "cell_type": "code",
   "execution_count": 51,
   "metadata": {},
   "outputs": [
    {
     "name": "stdout",
     "output_type": "stream",
     "text": [
      "Best answer: [1 1 1 0 0 0 1 1 0 0 1 0 1 0 1]\n",
      "Best capacity: 749\n",
      "Best costs: 1451\n",
      "Execution time: 0.0692\n"
     ]
    }
   ],
   "source": [
    "data = parse_data(7)\n",
    "solve(data, crossover_rate=0.9, mutation_rate=0.4, epochs=100, population_size=20)"
   ]
  },
  {
   "cell_type": "code",
   "execution_count": null,
   "metadata": {},
   "outputs": [],
   "source": []
  }
 ],
 "metadata": {
  "kernelspec": {
   "display_name": "Python 3",
   "language": "python",
   "name": "python3"
  },
  "language_info": {
   "codemirror_mode": {
    "name": "ipython",
    "version": 3
   },
   "file_extension": ".py",
   "mimetype": "text/x-python",
   "name": "python",
   "nbconvert_exporter": "python",
   "pygments_lexer": "ipython3",
   "version": "3.7.9"
  }
 },
 "nbformat": 4,
 "nbformat_minor": 4
}
