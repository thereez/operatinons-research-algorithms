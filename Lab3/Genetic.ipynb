{
 "cells": [
  {
   "cell_type": "code",
   "execution_count": 1,
   "metadata": {},
   "outputs": [],
   "source": [
    "from algorithms.knapsack.knapsack import *\n",
    "import pandas as pd\n",
    "import codecs\n",
    "from time import perf_counter"
   ]
  },
  {
   "cell_type": "code",
   "execution_count": 2,
   "metadata": {},
   "outputs": [],
   "source": [
    "def parse_data(file_num):\n",
    "    capacity = codecs.open(f\"data_knapsack/p0{file_num}_c.txt\", \"r\", \"utf_8_sig\").read()\n",
    "    weights = codecs.open(f\"data_knapsack/p0{file_num}_w.txt\", \"r\", \"utf_8_sig\").read()\n",
    "    costs = codecs.open(f\"data_knapsack/p0{file_num}_p.txt\", \"r\", \"utf_8_sig\").read()\n",
    "    optimal = codecs.open(f\"data_knapsack/p0{file_num}_s.txt\", \"r\", \"utf_8_sig\").read()\n",
    "\n",
    "    data = {\n",
    "        'capacity': int(capacity.strip()),\n",
    "        'weights': [int(w.strip()) for w in weights.splitlines()],\n",
    "        'costs': [int(c.strip()) for c in costs.splitlines()],\n",
    "        'optimal': [int(i.strip()) for i in optimal.splitlines()],\n",
    "    }\n",
    "    return data"
   ]
  },
  {
   "cell_type": "code",
   "execution_count": 140,
   "metadata": {},
   "outputs": [],
   "source": [
    "def solve(data):\n",
    "    costs = data['costs']\n",
    "    weights = data['weights']\n",
    "    capacity = data['capacity']\n",
    "    crossover_rate = 0.8\n",
    "    mutation_rate = 0.5\n",
    "    epochs = 50\n",
    "    population_size = 20\n",
    "    best_costs = -1\n",
    "    best_result = None\n",
    "    start_time = perf_counter()\n",
    "    population = get_initial_population(len(weights), population_size)\n",
    "    num_parents = int(len(population) / 2)\n",
    "    num_offsprings = len(population) - num_parents\n",
    "    for i in range(epochs):\n",
    "        f, p = fitness(population, weights, costs, capacity)\n",
    "        new_gen = rws_selection(p, f, num_parents)\n",
    "        offsprings = crossover(new_gen, num_offsprings, crossover_rate)\n",
    "        mutants = mutation(offsprings, mutation_rate)\n",
    "        population[0:new_gen.shape[0], :] = new_gen\n",
    "        population[new_gen.shape[0]:, :] = mutants\n",
    "        result = best_solution(population, weights, costs, capacity)\n",
    "        if result[2] > best_costs:\n",
    "            best_result = result\n",
    "    f, p = fitness(population, weights, costs, capacity)\n",
    "    result = best_solution(p, weights, costs, capacity)\n",
    "    if result[2] > best_costs:\n",
    "        best_result = result\n",
    "    end_time = perf_counter()\n",
    "    print('Best answer:', best_result[0])\n",
    "    print('Best capacity:', best_result[1])\n",
    "    print('Best costs:', best_result[2])\n",
    "    print('Execution time: %.4f' % (end_time - start_time))"
   ]
  },
  {
   "cell_type": "markdown",
   "metadata": {},
   "source": [
    "## Benchmarks"
   ]
  },
  {
   "cell_type": "markdown",
   "metadata": {},
   "source": [
    "## #1"
   ]
  },
  {
   "cell_type": "code",
   "execution_count": 31,
   "metadata": {},
   "outputs": [
    {
     "name": "stdout",
     "output_type": "stream",
     "text": [
      "Best answer: [1 1 1 1 0 1 0 0 0 0]\n",
      "Best capacity: 165\n",
      "Best costs: 309\n",
      "Execution time: 0.0066\n"
     ]
    }
   ],
   "source": [
    "data = parse_data(1)\n",
    "solve(data)"
   ]
  },
  {
   "cell_type": "markdown",
   "metadata": {},
   "source": [
    "## #2"
   ]
  },
  {
   "cell_type": "code",
   "execution_count": 34,
   "metadata": {},
   "outputs": [
    {
     "name": "stdout",
     "output_type": "stream",
     "text": [
      "Best answer: [0 1 1 1 0]\n",
      "Best capacity: 26\n",
      "Best costs: 51\n",
      "Execution time: 0.0050\n"
     ]
    }
   ],
   "source": [
    "data = parse_data(2)\n",
    "solve(data)"
   ]
  },
  {
   "cell_type": "markdown",
   "metadata": {},
   "source": [
    "## #3"
   ]
  },
  {
   "cell_type": "code",
   "execution_count": 39,
   "metadata": {},
   "outputs": [
    {
     "name": "stdout",
     "output_type": "stream",
     "text": [
      "Best answer: [1 1 0 0 1 0]\n",
      "Best capacity: 190\n",
      "Best costs: 150\n",
      "Execution time: 0.0054\n"
     ]
    }
   ],
   "source": [
    "data = parse_data(3)\n",
    "solve(data)"
   ]
  },
  {
   "cell_type": "markdown",
   "metadata": {},
   "source": [
    "## #4"
   ]
  },
  {
   "cell_type": "code",
   "execution_count": 40,
   "metadata": {},
   "outputs": [
    {
     "name": "stdout",
     "output_type": "stream",
     "text": [
      "Best answer: [1 0 0 1 0 0 0]\n",
      "Best capacity: 50\n",
      "Best costs: 107\n",
      "Execution time: 0.0054\n"
     ]
    }
   ],
   "source": [
    "data = parse_data(4)\n",
    "solve(data)"
   ]
  },
  {
   "cell_type": "markdown",
   "metadata": {},
   "source": [
    "## #5"
   ]
  },
  {
   "cell_type": "code",
   "execution_count": 99,
   "metadata": {},
   "outputs": [
    {
     "name": "stdout",
     "output_type": "stream",
     "text": [
      "Best answer: [1 0 1 1 1 0 1 1]\n",
      "Best capacity: 104\n",
      "Best costs: 900\n",
      "Execution time: 0.0299\n"
     ]
    }
   ],
   "source": [
    "data = parse_data(5)\n",
    "solve(data)"
   ]
  },
  {
   "cell_type": "markdown",
   "metadata": {},
   "source": [
    "## #6"
   ]
  },
  {
   "cell_type": "code",
   "execution_count": 108,
   "metadata": {},
   "outputs": [
    {
     "name": "stdout",
     "output_type": "stream",
     "text": [
      "Best answer: [0 1 0 1 0 0 1]\n",
      "Best capacity: 169\n",
      "Best costs: 1735\n",
      "Execution time: 0.0126\n"
     ]
    }
   ],
   "source": [
    "data = parse_data(6)\n",
    "solve(data)"
   ]
  },
  {
   "cell_type": "markdown",
   "metadata": {},
   "source": [
    "## #7"
   ]
  },
  {
   "cell_type": "code",
   "execution_count": 163,
   "metadata": {},
   "outputs": [
    {
     "name": "stdout",
     "output_type": "stream",
     "text": [
      "Best answer: [0 0 0 1 0 0 0 0 1 1 0 1 1 1 1]\n",
      "Best capacity: 750\n",
      "Best costs: 1447\n",
      "Execution time: 0.0629\n"
     ]
    }
   ],
   "source": [
    "data = parse_data(7)\n",
    "solve(data)"
   ]
  }
 ],
 "metadata": {
  "kernelspec": {
   "display_name": "Python 3",
   "language": "python",
   "name": "python3"
  },
  "language_info": {
   "codemirror_mode": {
    "name": "ipython",
    "version": 3
   },
   "file_extension": ".py",
   "mimetype": "text/x-python",
   "name": "python",
   "nbconvert_exporter": "python",
   "pygments_lexer": "ipython3",
   "version": "3.7.9"
  }
 },
 "nbformat": 4,
 "nbformat_minor": 4
}
